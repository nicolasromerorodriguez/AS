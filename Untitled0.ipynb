{
  "nbformat": 4,
  "nbformat_minor": 0,
  "metadata": {
    "colab": {
      "provenance": []
    },
    "kernelspec": {
      "name": "python3",
      "display_name": "Python 3"
    },
    "language_info": {
      "name": "python"
    }
  },
  "cells": [
    {
      "cell_type": "markdown",
      "source": [
        "#Workshop I - Systems Analysis\n",
        "##Workshop Definition:\n",
        "- Welcome to the first workshop of Systems Analysis course. Let’s funny me with a biological exercise.\n",
        "\n",
        "- Imagine you have been hired as data analyst in an important biotechnology company. Your boss, science chief officer, want to get some patterns in genomic data, sometimes called motifs. _check_\n",
        "\n",
        "- Here you will have some tasks in order to complete this workshop: Create a dummy database of genetic sequences composed of nucleotide bases (A, C, G, T), where each sequence must have between 10 and 20 bases. Your database must be composed for 50.000 genetic sequences. _check_\n",
        "\n",
        "- Get the motifs (must repeated sequence) of size 6 and 8. Use the Shannon Entropy measurement to filter sequences with not a good variance level. Get again the motifs of size 6 and 8.\n",
        "\n",
        "- Write some conclusions based on your analysis. Write any technical concern/decision/difficulty you think is relevant regarding your work. You must deliver a full report detailing each one of the previous steps. For steeps 1 to 4 you must describe the algorithms you propose and let an screenshot about the code and the output of the code. I strongly recommend you to use a Jupyter Notebook or a COLAB to write/execute your code."
      ],
      "metadata": {
        "id": "jg9M-v60CCip"
      }
    },
    {
      "cell_type": "markdown",
      "source": [],
      "metadata": {
        "id": "kss_etZXB3U6"
      }
    },
    {
      "cell_type": "code",
      "source": [
        "import random\n",
        "import math\n",
        "\n",
        "\n",
        "#This is an estocastic function that generates a random genetic sequences\n",
        "def create_sequence():\n",
        "  NUCLEOTID_BASES = ['A', 'C', 'G', 'T']\n",
        "  size_sequence = random.randint(10,20)\n",
        "  new_sequence = [NUCLEOTID_BASES[random.randint(0,3)] for i in range(size_sequence)]\n",
        "  return \"\".join(new_sequence)\n",
        "\n",
        "\n",
        "#Creates a dummy database containing n genetic sequences created with the previous function\n",
        "\n",
        "\n",
        "def create_dataset(dataset_size: int) -> list:\n",
        "\n",
        "    dataset = [create_sequence() for i in range(dataset_size)]\n",
        "    return dataset\n",
        "\n",
        "\n",
        "\n",
        "def get_combinations(n: int, sequences: list, bases: list) -> list:\n",
        "    if n == 1:\n",
        "        return [sequence + base for sequence in sequences for base in bases]\n",
        "    else:\n",
        "        sequence_ = [sequence + base for sequence in sequences for base in bases]\n",
        "        return get_combinations(n - 1, sequence_, bases)\n",
        "\n",
        "dataset = create_dataset(50)\n",
        "\n",
        "\n",
        "def count_motif(motif: str, sequences_dataset: list) -> int:\n",
        "    count = 0\n",
        "    for sequence in sequences_dataset:\n",
        "        count += sequence.count(motif)\n",
        "    return count\n",
        "\n",
        "def get_motif(motif_size: int, sequences_dataset: list) -> (str, int):\n",
        "\n",
        "    nucleotid_bases = [\"A\", \"C\", \"G\", \"T\"]\n",
        "    combinations = get_combinations(motif_size, [\"\"], nucleotid_bases)\n",
        "    # get motif with the highest count\n",
        "    max_counter = 0\n",
        "    motif_winner = \"\"\n",
        "    for motif_candidate in combinations:\n",
        "        temp_counter = count_motif(motif_candidate, sequences_dataset)\n",
        "        if temp_counter > max_counter:\n",
        "            max_counter = temp_counter\n",
        "            motif_winner = motif_candidate\n",
        "\n",
        "    return motif_winner, max_counter\n",
        "\n",
        "def filter_shannon(sequence: str) -> bool:\n",
        "\n",
        "    return calculate_shannon_entrophy(sequence, filter_shannon) >= 1.5\n",
        "\n",
        "\n",
        "def calculate_shannon_entrophy(sequence: str, filter_shannon: bool) -> float:\n",
        "\n",
        "    entrophy = 0\n",
        "    sequence_length = len(sequence)\n",
        "    nucleotide_counts = {base: sequence.count(base) for base in set(sequence)}\n",
        "    for count in nucleotide_counts.values():\n",
        "        probability = count / sequence_length\n",
        "        entrophy -= probability * math.log2(probability)\n",
        "    return entrophy\n",
        "\n",
        "sequences_entropy = [calculate_shannon_entrophy(sequence, filter_shannon(sequence)) for sequence in dataset]\n",
        "\n",
        "\n",
        "\n",
        "\n",
        "for size in [6, 8]:\n",
        "    print(f\"\\nArter filter, motifs of size: {size}\")\n",
        "    for i in range(10):\n",
        "        dataset = create_dataset(50000)\n",
        "        dataset = list(filter(filter_shannon, dataset))\n",
        "        print(f\"Dataset size: {len(dataset)}, Motif: {get_motif(size, dataset)}\")\n",
        "\n",
        "\n",
        "\n",
        "\n"
      ],
      "metadata": {
        "colab": {
          "base_uri": "https://localhost:8080/",
          "height": 599
        },
        "id": "nkr8LowRVUev",
        "outputId": "46e90dbd-ecfd-4c8a-d54a-0edfcc8016c1"
      },
      "execution_count": 12,
      "outputs": [
        {
          "output_type": "stream",
          "name": "stdout",
          "text": [
            "\n",
            "Arter filter, motifs of size: 6\n",
            "Dataset size: 47742, Motif: ('AGCTTC', 163)\n",
            "Dataset size: 47819, Motif: ('CGCTCA', 162)\n",
            "Dataset size: 47739, Motif: ('ATGGCA', 161)\n",
            "Dataset size: 47681, Motif: ('CCTGAC', 160)\n",
            "Dataset size: 47793, Motif: ('ATTCGA', 160)\n",
            "Dataset size: 47745, Motif: ('GTTCGC', 156)\n",
            "Dataset size: 47833, Motif: ('CCGTCA', 155)\n",
            "Dataset size: 47696, Motif: ('ATTGCA', 162)\n",
            "Dataset size: 47730, Motif: ('ACCTAG', 159)\n",
            "Dataset size: 47829, Motif: ('TATGGC', 160)\n",
            "\n",
            "Arter filter, motifs of size: 8\n"
          ]
        },
        {
          "output_type": "error",
          "ename": "KeyboardInterrupt",
          "evalue": "",
          "traceback": [
            "\u001b[0;31m---------------------------------------------------------------------------\u001b[0m",
            "\u001b[0;31mKeyboardInterrupt\u001b[0m                         Traceback (most recent call last)",
            "\u001b[0;32m<ipython-input-12-cd44eea8d6a1>\u001b[0m in \u001b[0;36m<cell line: 74>\u001b[0;34m()\u001b[0m\n\u001b[1;32m     77\u001b[0m         \u001b[0mdataset\u001b[0m \u001b[0;34m=\u001b[0m \u001b[0mcreate_dataset\u001b[0m\u001b[0;34m(\u001b[0m\u001b[0;36m50000\u001b[0m\u001b[0;34m)\u001b[0m\u001b[0;34m\u001b[0m\u001b[0;34m\u001b[0m\u001b[0m\n\u001b[1;32m     78\u001b[0m         \u001b[0mdataset\u001b[0m \u001b[0;34m=\u001b[0m \u001b[0mlist\u001b[0m\u001b[0;34m(\u001b[0m\u001b[0mfilter\u001b[0m\u001b[0;34m(\u001b[0m\u001b[0mfilter_shannon\u001b[0m\u001b[0;34m,\u001b[0m \u001b[0mdataset\u001b[0m\u001b[0;34m)\u001b[0m\u001b[0;34m)\u001b[0m\u001b[0;34m\u001b[0m\u001b[0;34m\u001b[0m\u001b[0m\n\u001b[0;32m---> 79\u001b[0;31m         \u001b[0mprint\u001b[0m\u001b[0;34m(\u001b[0m\u001b[0;34mf\"Dataset size: {len(dataset)}, Motif: {get_motif(size, dataset)}\"\u001b[0m\u001b[0;34m)\u001b[0m\u001b[0;34m\u001b[0m\u001b[0;34m\u001b[0m\u001b[0m\n\u001b[0m\u001b[1;32m     80\u001b[0m \u001b[0;34m\u001b[0m\u001b[0m\n\u001b[1;32m     81\u001b[0m \u001b[0;34m\u001b[0m\u001b[0m\n",
            "\u001b[0;32m<ipython-input-12-cd44eea8d6a1>\u001b[0m in \u001b[0;36mget_motif\u001b[0;34m(motif_size, sequences_dataset)\u001b[0m\n\u001b[1;32m     45\u001b[0m     \u001b[0mmotif_winner\u001b[0m \u001b[0;34m=\u001b[0m \u001b[0;34m\"\"\u001b[0m\u001b[0;34m\u001b[0m\u001b[0;34m\u001b[0m\u001b[0m\n\u001b[1;32m     46\u001b[0m     \u001b[0;32mfor\u001b[0m \u001b[0mmotif_candidate\u001b[0m \u001b[0;32min\u001b[0m \u001b[0mcombinations\u001b[0m\u001b[0;34m:\u001b[0m\u001b[0;34m\u001b[0m\u001b[0;34m\u001b[0m\u001b[0m\n\u001b[0;32m---> 47\u001b[0;31m         \u001b[0mtemp_counter\u001b[0m \u001b[0;34m=\u001b[0m \u001b[0mcount_motif\u001b[0m\u001b[0;34m(\u001b[0m\u001b[0mmotif_candidate\u001b[0m\u001b[0;34m,\u001b[0m \u001b[0msequences_dataset\u001b[0m\u001b[0;34m)\u001b[0m\u001b[0;34m\u001b[0m\u001b[0;34m\u001b[0m\u001b[0m\n\u001b[0m\u001b[1;32m     48\u001b[0m         \u001b[0;32mif\u001b[0m \u001b[0mtemp_counter\u001b[0m \u001b[0;34m>\u001b[0m \u001b[0mmax_counter\u001b[0m\u001b[0;34m:\u001b[0m\u001b[0;34m\u001b[0m\u001b[0;34m\u001b[0m\u001b[0m\n\u001b[1;32m     49\u001b[0m             \u001b[0mmax_counter\u001b[0m \u001b[0;34m=\u001b[0m \u001b[0mtemp_counter\u001b[0m\u001b[0;34m\u001b[0m\u001b[0;34m\u001b[0m\u001b[0m\n",
            "\u001b[0;32m<ipython-input-12-cd44eea8d6a1>\u001b[0m in \u001b[0;36mcount_motif\u001b[0;34m(motif, sequences_dataset)\u001b[0m\n\u001b[1;32m     34\u001b[0m     \u001b[0mcount\u001b[0m \u001b[0;34m=\u001b[0m \u001b[0;36m0\u001b[0m\u001b[0;34m\u001b[0m\u001b[0;34m\u001b[0m\u001b[0m\n\u001b[1;32m     35\u001b[0m     \u001b[0;32mfor\u001b[0m \u001b[0msequence\u001b[0m \u001b[0;32min\u001b[0m \u001b[0msequences_dataset\u001b[0m\u001b[0;34m:\u001b[0m\u001b[0;34m\u001b[0m\u001b[0;34m\u001b[0m\u001b[0m\n\u001b[0;32m---> 36\u001b[0;31m         \u001b[0mcount\u001b[0m \u001b[0;34m+=\u001b[0m \u001b[0msequence\u001b[0m\u001b[0;34m.\u001b[0m\u001b[0mcount\u001b[0m\u001b[0;34m(\u001b[0m\u001b[0mmotif\u001b[0m\u001b[0;34m)\u001b[0m\u001b[0;34m\u001b[0m\u001b[0;34m\u001b[0m\u001b[0m\n\u001b[0m\u001b[1;32m     37\u001b[0m     \u001b[0;32mreturn\u001b[0m \u001b[0mcount\u001b[0m\u001b[0;34m\u001b[0m\u001b[0;34m\u001b[0m\u001b[0m\n\u001b[1;32m     38\u001b[0m \u001b[0;34m\u001b[0m\u001b[0m\n",
            "\u001b[0;31mKeyboardInterrupt\u001b[0m: "
          ]
        }
      ]
    },
    {
      "cell_type": "code",
      "source": [
        "create_database()"
      ],
      "metadata": {
        "id": "A_Re8j91bUOv"
      },
      "execution_count": null,
      "outputs": []
    }
  ]
}