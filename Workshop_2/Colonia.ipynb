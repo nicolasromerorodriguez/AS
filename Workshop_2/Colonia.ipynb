{
  "cells": [
    {
      "cell_type": "markdown",
      "metadata": {
        "id": "okEln-0AAAYL"
      },
      "source": [
        "# Workshop II - Swarm Intelligence and Sinergy: Ant Colony for the Traveling Salesman Problem\n",
        "\n",
        "## Workshop Definition:\n",
        "\n",
        "In this second workshop, the idea is you solve the _Traveling Salesman Problem (TSP)_ using _Ant Colony Optimization (ACO)_ algorithm. It is time to apply a very popular swarm intelligence algorithm to a problem in the real world.\n",
        "\n",
        "Imagine you have been hired as __artificial intelligence engineer__ in an important logistic company. Your boss, a Chief Technology Officer, wants to get _shortest path_ to deliver some products. You analyze the problem, and figure out it is similar to _TSP_, and you remember you know some _swarm intellinge_ algoritms useful to solve this problem, in this case, _ACO_.\n",
        "\n",
        "Here you will have some tasks in order to complete this _workshop_:\n",
        "\n",
        "1. Create some diagrams and explanations to represent/understand the problem following a _systems thinking approach_.\n",
        "1. Generate several random $3D$ space points in order to define cities to be visited by the salesman.\n",
        "1. With random points, generate a list in order to define the requirements for the route.\n",
        "1. Implement ACO in order to solve TSP problem. Test different parameters combination.\n",
        "1. Draw a $3D$ plot in order to see the output of the algorithm.\n",
        "1. Think some conclusions based on outputs analysis.\n",
        "\n",
        "Write any technical concern/decision/difficulty  you think is relevant regarding your work. You must deliver a full report detailing each one of the previous steps. I strongly recommend you to use a _Jupyter Notebook_ or a _COLAB_ to write/execute your code. Also, your work must include the __report__, the __code__, and a __README.md__ file in repo of the course, everything in a folder called _workshop\\_2_."
      ]
    },
    {
      "cell_type": "markdown",
      "metadata": {
        "id": "q5e8vWZvAAYN"
      },
      "source": [
        "## Traveling Salesman Problem\n",
        "\n",
        "Traveling Salesman Problem (TSP) is a pretty common combinatorial optimization problem. The general idea is a salesman must to visit a set of cities exactly once and return to thr original city. The goal is to get the shortest possible route starting on a specific city.\n",
        "\n",
        "Thinks in all possible combinations, specially when the number of cities growth, it becomes this problem a _NP-Hard_."
      ]
    },
    {
      "cell_type": "code",
      "execution_count": null,
      "metadata": {
        "id": "iwGQWtEuAAYN"
      },
      "outputs": [],
      "source": [
        "import numpy as np\n",
        "\n",
        "\n",
        "def generate_cities(number_cities: int) -> list:\n",
        "    \"\"\"\n",
        "    This function generates a list of cities with random coordinates in 3D space.\n",
        "\n",
        "    Parameters:\n",
        "    - number_cities (int): Number of cities to generate.\n",
        "\n",
        "    Returns:\n",
        "    - list: A list of cities with random coordinates.\n",
        "    \"\"\"\n",
        "    # HERE Generate random 3D Points using numpy generator\n",
        "    cities = []\n",
        "    for _ in range(number_cities):\n",
        "        # Generate random coordinates for each city\n",
        "        x, y, z = np.random.rand(3)\n",
        "        np.array(cities.append(np.array([x, y, z])))\n",
        "    return cities\n",
        "\n",
        "\n",
        "\n",
        "def calculate_distance(point_1: np.array, point_2: np.array) -> float:\n",
        "    \"\"\"\n",
        "    This function calculates the Euclidean distance between two points.\n",
        "\n",
        "    Parameters:\n",
        "    - point_1 (np.array): First point.\n",
        "    - point_2 (np.array): Second point.\n",
        "\n",
        "    Returns:\n",
        "    - float: The Euclidean distance between the two points.\n",
        "    \"\"\"\n",
        "    # HERE return distance between two points using euclidean distance formula\n",
        "    distance = np.linalg.norm(point_1 - point_2)\n",
        "    return distance\n",
        "\n",
        "generate_cities_result = generate_cities(5)\n",
        "\n",
        "#for city in generate_cities_result:\n",
        "#    print(city)\n",
        "\n",
        "distance_cities = np.zeros((len(generate_cities_result), len(generate_cities_result)))\n",
        "for i in range(len(generate_cities_result)):\n",
        "    for j in range(len(generate_cities_result)):\n",
        "        distance_cities[i, j] = calculate_distance(generate_cities_result[i], generate_cities_result[j])\n",
        "print(distance_cities)\n",
        "\n",
        "number = len(generate_cities_result)\n",
        "print(number)\n",
        "pheromone = np.ones((number, number))\n",
        "# HERE Initialize pheromone matrix with ones\n",
        "print(pheromone)"
      ]
    },
    {
      "cell_type": "markdown",
      "metadata": {
        "id": "LpuIO4yNAAYO"
      },
      "source": [
        "## Ant Colony Optimization (ACO)\n",
        "\n",
        "Ant Colony Optimization is an algorithm based on ants behaviors to find routes to food using pheromones as a guide of the best way. This is an algorithm simple to implement but get incredible results in route optimization problems.\n",
        "\n",
        "The idea is the way with most pheromone t is the better way to accomplished the route."
      ]
    },
    {
      "cell_type": "code",
      "execution_count": null,
      "metadata": {
        "id": "Vo_FZ2HPAAYO"
      },
      "outputs": [],
      "source": [
        "def ant_colony_optimization(\n",
        "    cities, n_ants, n_iterations, alpha, beta, evaporation_rate, Q\n",
        "):\n",
        "    \"\"\"\n",
        "    This function solves the Traveling Salesman Problem using Ant Colony Optimization.\n",
        "\n",
        "    Parameters:\n",
        "    - cities (list): List of cities.\n",
        "    - n_ants (int): Number of ants.\n",
        "    - n_iterations (int): Number of iterations.\n",
        "    - alpha (float): It determines how much the ants are influenced by the pheromone trails left by other ants.\n",
        "    - beta (float):  It determines how much the ants are influenced by the distance to the next city\n",
        "    - evaporation_rate (float): Evaporation rate.\n",
        "    - Q (float): It determines the intensity of the pheromone trail left behind by an ant.\n",
        "    \"\"\"\n",
        "\n",
        "    number_cities =  len(cities) # HERE Get number of points\n",
        "    pheromone = np.ones((number_cities, number_cities))\n",
        "    # HERE Initialize pheromone matrix with ones\n",
        "\n",
        "    # initialize output metrics\n",
        "    best_path = None\n",
        "    best_path_length = np.inf\n",
        "\n",
        "    # per each iteration the ants will build a path\n",
        "    for iteration in range(n_iterations):\n",
        "        paths = []  # store the paths of each ant\n",
        "        path_lengths = []\n",
        "\n",
        "        for ant in range(n_ants):\n",
        "            visited = [False] * number_cities\n",
        "\n",
        "            # you could start from any city, but let's start from a random one\n",
        "            current_city = np.random.randint(number_cities)\n",
        "            visited[current_city] = True\n",
        "            path = [current_city]\n",
        "            path_length = 0\n",
        "\n",
        "            while False in visited:  # while there are unvisited cities\n",
        "                unvisited = np.where(np.logical_not(visited))[0]\n",
        "                probabilities = np.zeros(len(unvisited))\n",
        "\n",
        "                # based on pheromone, distance and alpha and beta parameters, define the preference\n",
        "                # for an ant to move to a city\n",
        "                for i, unvisited_city in enumerate(unvisited):\n",
        "                    # HERE add equation to calculate the probability of moving to a city based on pheromone, distance and alpha and beta parameters\n",
        "                    pheromone_factor = pheromone[current_city, unvisited_city] ** alpha\n",
        "                    distance_factor = 1.0 / calculate_distance(cities[current_city], cities[unvisited_city]) ** beta\n",
        "                    probabilities[i] = pheromone_factor * distance_factor\n",
        "                # normalize probabilities, it means, the sum of all probabilities is 1\n",
        "                # HERE add normalization for calculated probabilities\n",
        "                probabilities /= np.sum(probabilities)\n",
        "\n",
        "                next_city = np.random.choice(unvisited, p=probabilities)\n",
        "                path.append(next_city)\n",
        "                # increase the cost of move through the path\n",
        "                path_length += calculate_distance(\n",
        "                    cities[current_city], cities[next_city]\n",
        "                )\n",
        "                visited[next_city] = True\n",
        "                # move to the next city, for the next iteration\n",
        "                current_city = next_city\n",
        "\n",
        "            paths.append(path)\n",
        "            path_lengths.append(path_length)\n",
        "\n",
        "            # update with current best path, this is a minimization problem\n",
        "            if path_length < best_path_length:\n",
        "                best_path = path\n",
        "                best_path_length = path_length\n",
        "\n",
        "        # remove a bit of pheromone of all map, it's a way to avoid local minima\n",
        "        pheromone *= evaporation_rate\n",
        "\n",
        "        # current ant must add pheromone to the path it has walked\n",
        "        for path, path_length in zip(paths, path_lengths):\n",
        "            for i in range(number_cities - 1):\n",
        "                pheromone[path[i], path[i + 1]] += Q / path_length\n",
        "            pheromone[path[-1], path[0]] += Q / path_length\n",
        "    return best_path, best_path_length"
      ]
    },
    {
      "cell_type": "markdown",
      "metadata": {
        "id": "XOsqDtPHAAYO"
      },
      "source": [
        "Once we have basic functions related to _cities_ and _aco_, it is moment to run the algorithm creating first the list of cities and then calculating the best path."
      ]
    },
    {
      "cell_type": "code",
      "execution_count": null,
      "metadata": {
        "id": "K4xI320cAAYP"
      },
      "outputs": [],
      "source": [
        "# model parameters\n",
        "number_cities = 30\n",
        "number_ants = 100\n",
        "number_iterations = 100\n",
        "alpha = 1\n",
        "beta = 1\n",
        "evaporation_rate = 0.1\n",
        "Q = 4\n",
        "\n",
        "# HERE create list of cities\n",
        "cities = generate_cities(number_cities)\n",
        "\n",
        "# HERE call ant_colony_optimization function\n",
        "best_path, best_path_length = ant_colony_optimization(cities,number_ants,number_iterations,alpha,beta,evaporation_rate,Q)\n",
        "best_path_list = list(best_path)\n"
      ]
    },
    {
      "cell_type": "markdown",
      "metadata": {
        "id": "UfHYEPDGAAYP"
      },
      "source": [
        "It is important to generate great visualizations in order to make simple your analysis. For this purpose, for any experiment the idea is to make a $3D$ plot (in this case using _matplotlib_) and print some metrics."
      ]
    },
    {
      "cell_type": "code",
      "execution_count": null,
      "metadata": {
        "colab": {
          "background_save": true
        },
        "id": "ZsC3-1svAAYP"
      },
      "outputs": [],
      "source": [
        "import random\n",
        "import matplotlib.pyplot as plt\n",
        "from mpl_toolkits.mplot3d import Axes3D\n",
        "\n",
        "\n",
        "def random_color() -> list:\n",
        "    \"\"\"\n",
        "    This function generates a random color in RGB porcentage intensity.\n",
        "\n",
        "    Returns:\n",
        "    - list: A list with three random values between 0 and 1.\n",
        "    \"\"\"\n",
        "    return [random.random(), random.random(), random.random()]\n",
        "\n",
        "\n",
        "\n",
        "def plot_aco_route(cities: np.array, best_path: list):\n",
        "    \"\"\"\n",
        "    This function plots the cities and the best path found by the ACO algorithm.\n",
        "\n",
        "    Parameters:\n",
        "    - cities (np.array): A list of cities with their coordinates.\n",
        "    - best_path (list): The best path found by the ACO algorithm.\n",
        "    \"\"\"\n",
        "    fig = plt.figure(figsize=(10, 8))\n",
        "    ax = fig.add_subplot(111, projection=\"3d\")\n",
        "\n",
        "    for i in range(len(best_path) - 1):\n",
        "        ax.plot(\n",
        "            [cities[best_path[i], 0], cities[best_path[i + 1], 0]],  # x axis\n",
        "            [cities[best_path[i], 1], cities[best_path[i + 1], 1]],  # y axis\n",
        "            [cities[best_path[i], 2], cities[best_path[i + 1], 2]],  # z axis\n",
        "            c=random_color(),\n",
        "            linestyle=\"-\",\n",
        "            linewidth=3,\n",
        "        )\n",
        "\n",
        "    ax.plot(\n",
        "        [cities[best_path[0], 0], cities[best_path[-1], 0]],\n",
        "        [cities[best_path[0], 1], cities[best_path[-1], 1]],\n",
        "        [cities[best_path[0], 2], cities[best_path[-1], 2]],\n",
        "        c=random_color(),\n",
        "        linestyle=\"-\",\n",
        "        linewidth=3,\n",
        "    )\n",
        "\n",
        "    ax.scatter(cities[0, 0], cities[0, 1], cities[0, 2], c=\"b\", marker=\"o\")\n",
        "    ax.scatter(cities[1:, 0], cities[1:, 1], cities[1:, 2], c=\"g\", marker=\"o\")\n",
        "\n",
        "    ax.set_xlabel(\"Longitude\")\n",
        "    ax.set_ylabel(\"Latitude\")\n",
        "    ax.set_zlabel(\"Altitude\")\n",
        "\n",
        "    plt.show()\n",
        "\n",
        "\n",
        "print(\"Best path:\", best_path_list)\n",
        "print(\"Best path length:\", best_path_length)\n",
        "plot_aco_route(np.array(cities), best_path_list)\n",
        "\n"
      ]
    }
  ],
  "metadata": {
    "colab": {
      "provenance": []
    },
    "kernelspec": {
      "display_name": "class_ap",
      "language": "python",
      "name": "python3"
    },
    "language_info": {
      "codemirror_mode": {
        "name": "ipython",
        "version": 3
      },
      "file_extension": ".py",
      "mimetype": "text/x-python",
      "name": "python",
      "nbconvert_exporter": "python",
      "pygments_lexer": "ipython3",
      "version": "3.11.2"
    }
  },
  "nbformat": 4,
  "nbformat_minor": 0
}